{
 "cells": [
  {
   "cell_type": "code",
   "execution_count": null,
   "id": "9b2a771a-bf8b-4af0-9a97-3234b712d4da",
   "metadata": {},
   "outputs": [],
   "source": []
  }
 ],
 "metadata": {
  "kernelspec": {
   "display_name": "",
   "name": ""
  },
  "language_info": {
   "name": ""
  }
 },
 "nbformat": 4,
 "nbformat_minor": 5
}
