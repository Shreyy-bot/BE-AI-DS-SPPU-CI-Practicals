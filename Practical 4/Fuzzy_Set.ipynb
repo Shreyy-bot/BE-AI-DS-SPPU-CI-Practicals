{
 "cells": [
  {
   "cell_type": "code",
   "execution_count": 2,
   "id": "b7952d98-b42d-47b7-b7c1-38229727382e",
   "metadata": {},
   "outputs": [],
   "source": [
    "import numpy as np"
   ]
  },
  {
   "cell_type": "code",
   "execution_count": 4,
   "id": "beec87e0-ef90-4c3f-ba31-9ef93b6238c3",
   "metadata": {},
   "outputs": [],
   "source": [
    "# Function to perform Union operation on fuzzy sets\n",
    "def fuzzy_union(A, B):\n",
    "    return np.maximum(A, B)"
   ]
  },
  {
   "cell_type": "code",
   "execution_count": 6,
   "id": "8cd3cff8-5268-41bd-b2a4-00b051206795",
   "metadata": {},
   "outputs": [],
   "source": [
    "# Function to perform Intersection operation on fuzzy sets\n",
    "def fuzzy_intersection(A, B):\n",
    "    return np.minimum(A, B)"
   ]
  },
  {
   "cell_type": "code",
   "execution_count": 8,
   "id": "f3bc15ad-dd57-4923-9bc6-983cd0367c5f",
   "metadata": {},
   "outputs": [],
   "source": [
    "# Function to perform Complement operation on a fuzzy set\n",
    "def fuzzy_complement(A):\n",
    "    return 1 - A"
   ]
  },
  {
   "cell_type": "code",
   "execution_count": 10,
   "id": "5a34dc2c-80e0-4884-b776-779818f5cb53",
   "metadata": {},
   "outputs": [],
   "source": [
    "# Function to perform Difference operation on fuzzy sets\n",
    "def fuzzy_difference(A, B):\n",
    "    return np.minimum(A, 1 - B)"
   ]
  },
  {
   "cell_type": "code",
   "execution_count": 12,
   "id": "453a6d79-fa74-442c-b972-ae291edb082a",
   "metadata": {},
   "outputs": [],
   "source": [
    "# Function to create fuzzy relation by Cartesian product of two fuzzy sets\n",
    "def cartesian_product(A, B):\n",
    "    cartesian = []\n",
    "    for i in A:\n",
    "        temp = []\n",
    "        for j in B:\n",
    "            temp.append(min(i,j))\n",
    "        cartesian.append(temp)\n",
    "    return cartesian"
   ]
  },
  {
   "cell_type": "code",
   "execution_count": 14,
   "id": "209bc56b-b533-44be-a661-cf4850433aa0",
   "metadata": {},
   "outputs": [],
   "source": [
    "# Function to perform Max-Min composition on two fuzzy relation\n",
    "\n",
    "def max_min_composition(R1, R2):\n",
    "    result = {}\n",
    "    cnt = 0\n",
    "    for (x, y1) in R1.keys():\n",
    "        for (y2, z) in R2.keys():\n",
    "            if y1 == y2:\n",
    "                if cnt%2==0:\n",
    "                    result[x,z] = max(R1[x,y1],R2[y2,z])\n",
    "                else:\n",
    "                    result[x,z] = min(R1[x,y1],R2[y2,z])\n",
    "                cnt += 1                \n",
    "                \n",
    "    return result"
   ]
  },
  {
   "cell_type": "code",
   "execution_count": 16,
   "id": "fbb943ba-e1b8-4d2b-871d-604916f0b714",
   "metadata": {},
   "outputs": [],
   "source": [
    "R1 = {('1', 'a'): 0.4, ('2', 'b'): 0.7, ('3', 'c'): 0.9}\n",
    "R2 = {('a', 'x'): 0.6, ('b', 'y'): 0.8, ('c', 'z'): 0.3}"
   ]
  },
  {
   "cell_type": "code",
   "execution_count": 18,
   "id": "abf4a4c3-afc6-4caf-8243-b3a5f86606cc",
   "metadata": {},
   "outputs": [
    {
     "name": "stdout",
     "output_type": "stream",
     "text": [
      "Max-Min Composition of fuzzy relations R1 and R2: {('1', 'x'): 0.6, ('2', 'y'): 0.7, ('3', 'z'): 0.9}\n"
     ]
    }
   ],
   "source": [
    "print(\"Max-Min Composition of fuzzy relations R1 and R2:\", max_min_composition(R1, R2))"
   ]
  },
  {
   "cell_type": "code",
   "execution_count": 20,
   "id": "6f87c9f6-f463-4d98-8590-aafd04cca3d0",
   "metadata": {},
   "outputs": [],
   "source": [
    "# Example usage\n",
    "A = np.array([0.2, 0.4, 0.6, 0.8])  # Fuzzy set A\n",
    "B = np.array([0.3, 0.5, 0.7, 0.9])  # Fuzzy set B"
   ]
  },
  {
   "cell_type": "code",
   "execution_count": 22,
   "id": "bb270766-93b0-46cd-b2c3-75d4424b915c",
   "metadata": {},
   "outputs": [],
   "source": [
    "# Operations on fuzzy sets\n",
    "union_result = fuzzy_union(A, B)\n",
    "intersection_result = fuzzy_intersection(A, B)\n",
    "complement_A = fuzzy_complement(A)\n",
    "difference_result = fuzzy_difference(A, B)"
   ]
  },
  {
   "cell_type": "code",
   "execution_count": 24,
   "id": "21586e06-5747-4177-91f2-65d054f912d6",
   "metadata": {},
   "outputs": [
    {
     "name": "stdout",
     "output_type": "stream",
     "text": [
      "Union: [0.3 0.5 0.7 0.9]\n",
      "Intersection: [0.2 0.4 0.6 0.8]\n",
      "Complement of A: [0.8 0.6 0.4 0.2]\n",
      "Difference: [0.2 0.4 0.3 0.1]\n"
     ]
    }
   ],
   "source": [
    "print(\"Union:\", union_result)\n",
    "print(\"Intersection:\", intersection_result)\n",
    "print(\"Complement of A:\", complement_A)\n",
    "print(\"Difference:\", difference_result)"
   ]
  },
  {
   "cell_type": "code",
   "execution_count": 26,
   "id": "75c35271-1882-4d5e-850d-079f23845d9d",
   "metadata": {},
   "outputs": [],
   "source": [
    "# Fuzzy relations\n",
    "R = np.array([0.2, 0.5, 0.4])  # Fuzzy relation R\n",
    "S = np.array([0.6, 0.3, 0.7])  # Fuzzy relation S"
   ]
  },
  {
   "cell_type": "code",
   "execution_count": 28,
   "id": "6bb555ce-d611-45f2-a716-dd51c8215b1c",
   "metadata": {},
   "outputs": [],
   "source": [
    "# Cartesian product of fuzzy relations\n",
    "cartesian_result = cartesian_product(R, S)"
   ]
  },
  {
   "cell_type": "code",
   "execution_count": 30,
   "id": "a5dd89ef-5d7d-4bc3-98bd-0acfcd20fe27",
   "metadata": {},
   "outputs": [
    {
     "name": "stdout",
     "output_type": "stream",
     "text": [
      "Cartesian product of R and S:\n",
      "[0.2, 0.2, 0.2]\n",
      "[0.5, 0.3, 0.5]\n",
      "[0.4, 0.3, 0.4]\n"
     ]
    }
   ],
   "source": [
    "print(\"Cartesian product of R and S:\")\n",
    "for i in cartesian_result:\n",
    "    print(i)"
   ]
  },
  {
   "cell_type": "code",
   "execution_count": null,
   "id": "f55eb074-6b0a-49ef-b9da-6ef6483061b5",
   "metadata": {},
   "outputs": [],
   "source": []
  }
 ],
 "metadata": {
  "kernelspec": {
   "display_name": "Python 3 (ipykernel)",
   "language": "python",
   "name": "python3"
  },
  "language_info": {
   "codemirror_mode": {
    "name": "ipython",
    "version": 3
   },
   "file_extension": ".py",
   "mimetype": "text/x-python",
   "name": "python",
   "nbconvert_exporter": "python",
   "pygments_lexer": "ipython3",
   "version": "3.12.7"
  }
 },
 "nbformat": 4,
 "nbformat_minor": 5
}
