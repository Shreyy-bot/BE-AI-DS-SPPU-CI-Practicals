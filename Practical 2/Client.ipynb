{
 "cells": [
  {
   "cell_type": "code",
   "execution_count": 2,
   "id": "d93ac790-8feb-47d5-805b-295bd89805cc",
   "metadata": {},
   "outputs": [],
   "source": [
    "import Pyro4"
   ]
  },
  {
   "cell_type": "code",
   "execution_count": 14,
   "id": "1f664d97-4e7d-4a9a-82a2-bd4b42ff534c",
   "metadata": {},
   "outputs": [
    {
     "name": "stdin",
     "output_type": "stream",
     "text": [
      "Enter the URI of the StringConcatenator object:  PYRO:obj_c621a43fee0f4c359e1cb2d273867586@localhost:56411\n",
      "Enter the first string:  Ui\n",
      "Enter the second string:  Ux\n"
     ]
    },
    {
     "name": "stdout",
     "output_type": "stream",
     "text": [
      "The concatenated string is: UiUx\n"
     ]
    }
   ],
   "source": [
    "uri = input(\"Enter the URI of the StringConcatenator object: \")\n",
    "concatenator = Pyro4.Proxy(uri)\n",
    "\n",
    "str1 = input(\"Enter the first string: \")\n",
    "str2 = input(\"Enter the second string: \")\n",
    "\n",
    "result = concatenator.concatenate_strings(str1, str2)\n",
    "print(f\"The concatenated string is: {result}\")"
   ]
  },
  {
   "cell_type": "code",
   "execution_count": null,
   "id": "1f2b5d43-61b1-4273-8c15-91548200d5eb",
   "metadata": {},
   "outputs": [],
   "source": []
  }
 ],
 "metadata": {
  "kernelspec": {
   "display_name": "Python 3 (ipykernel)",
   "language": "python",
   "name": "python3"
  },
  "language_info": {
   "codemirror_mode": {
    "name": "ipython",
    "version": 3
   },
   "file_extension": ".py",
   "mimetype": "text/x-python",
   "name": "python",
   "nbconvert_exporter": "python",
   "pygments_lexer": "ipython3",
   "version": "3.12.7"
  }
 },
 "nbformat": 4,
 "nbformat_minor": 5
}
