{
 "cells": [
  {
   "cell_type": "code",
   "execution_count": 1,
   "id": "28041077-73e3-4aac-b3e8-2c9f97e9fb50",
   "metadata": {},
   "outputs": [
    {
     "name": "stdout",
     "output_type": "stream",
     "text": [
      "Collecting Pyro4\n",
      "  Downloading Pyro4-4.82-py2.py3-none-any.whl.metadata (2.2 kB)\n",
      "Collecting serpent>=1.27 (from Pyro4)\n",
      "  Downloading serpent-1.41-py3-none-any.whl.metadata (5.8 kB)\n",
      "Downloading Pyro4-4.82-py2.py3-none-any.whl (89 kB)\n",
      "Downloading serpent-1.41-py3-none-any.whl (9.6 kB)\n",
      "Installing collected packages: serpent, Pyro4\n",
      "Successfully installed Pyro4-4.82 serpent-1.41\n"
     ]
    }
   ],
   "source": [
    "!pip install Pyro4"
   ]
  },
  {
   "cell_type": "code",
   "execution_count": 3,
   "id": "8fbd6802-07b0-42bd-9636-febd4b12cbfe",
   "metadata": {},
   "outputs": [],
   "source": [
    "import Pyro4"
   ]
  },
  {
   "cell_type": "code",
   "execution_count": null,
   "id": "f225a377-4681-4bbd-a5f4-7fcfe30e963a",
   "metadata": {},
   "outputs": [
    {
     "name": "stdout",
     "output_type": "stream",
     "text": [
      "Server is running. URI: PYRO:obj_c621a43fee0f4c359e1cb2d273867586@localhost:56411\n"
     ]
    }
   ],
   "source": [
    "@Pyro4.expose\n",
    "class StringConcatenator:\n",
    "    def concatenate_strings(self, str1, str2):\n",
    "        return str1 + str2\n",
    "\n",
    "daemon = Pyro4.Daemon()\n",
    "uri = daemon.register(StringConcatenator)\n",
    "\n",
    "print(\"Server is running. URI:\", uri)\n",
    "\n",
    "daemon.requestLoop()"
   ]
  },
  {
   "cell_type": "code",
   "execution_count": null,
   "id": "9d8de402-5160-4050-9e81-a8905b5145fe",
   "metadata": {},
   "outputs": [],
   "source": []
  }
 ],
 "metadata": {
  "kernelspec": {
   "display_name": "Python 3 (ipykernel)",
   "language": "python",
   "name": "python3"
  },
  "language_info": {
   "codemirror_mode": {
    "name": "ipython",
    "version": 3
   },
   "file_extension": ".py",
   "mimetype": "text/x-python",
   "name": "python",
   "nbconvert_exporter": "python",
   "pygments_lexer": "ipython3",
   "version": "3.12.7"
  }
 },
 "nbformat": 4,
 "nbformat_minor": 5
}
