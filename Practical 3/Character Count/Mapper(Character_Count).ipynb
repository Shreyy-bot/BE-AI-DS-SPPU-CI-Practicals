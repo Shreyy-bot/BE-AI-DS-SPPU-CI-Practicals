{
 "cells": [
  {
   "cell_type": "code",
   "execution_count": 2,
   "id": "706d3d4f-5e5b-42b2-aae4-d6407522a294",
   "metadata": {},
   "outputs": [],
   "source": [
    "#!/usr/bin/env python3\n",
    "import sys"
   ]
  },
  {
   "cell_type": "code",
   "execution_count": 4,
   "id": "78b5cadf-c425-4476-ba26-781182b7cdd5",
   "metadata": {},
   "outputs": [],
   "source": [
    "for line in sys.stdin:\n",
    "    for char in line:\n",
    "        if char.isalnum():\n",
    "            print(f\"{char}\\t1\")"
   ]
  },
  {
   "cell_type": "code",
   "execution_count": null,
   "id": "e3f742ca-5ede-450c-b2ff-cf17a391627e",
   "metadata": {},
   "outputs": [],
   "source": []
  }
 ],
 "metadata": {
  "kernelspec": {
   "display_name": "Python 3 (ipykernel)",
   "language": "python",
   "name": "python3"
  },
  "language_info": {
   "codemirror_mode": {
    "name": "ipython",
    "version": 3
   },
   "file_extension": ".py",
   "mimetype": "text/x-python",
   "name": "python",
   "nbconvert_exporter": "python",
   "pygments_lexer": "ipython3",
   "version": "3.12.7"
  }
 },
 "nbformat": 4,
 "nbformat_minor": 5
}
