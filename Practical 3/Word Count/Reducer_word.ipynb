{
 "cells": [
  {
   "cell_type": "code",
   "execution_count": 1,
   "id": "33720544-5701-4001-9ab4-edfb1ebb1f5c",
   "metadata": {},
   "outputs": [],
   "source": [
    "#!/usr/bin/env python3\n",
    "import sys"
   ]
  },
  {
   "cell_type": "code",
   "execution_count": 3,
   "id": "bf67d10d-d811-4dfd-b89f-a3660f168bf2",
   "metadata": {},
   "outputs": [],
   "source": [
    "current_word = None\n",
    "count = 0"
   ]
  },
  {
   "cell_type": "code",
   "execution_count": 5,
   "id": "6e5bcf7c-5c85-44bd-8e2a-bc39fb52a534",
   "metadata": {},
   "outputs": [],
   "source": [
    "for line in sys.stdin:\n",
    "    word, val = line.strip().split('\\t')\n",
    "    val = int(val)\n",
    "\n",
    "    if word == current_word:\n",
    "        count += val\n",
    "    else:\n",
    "        if current_word:\n",
    "            print(f\"{current_word}\\t{count}\")\n",
    "        current_word = word\n",
    "        count = val\n",
    "\n",
    "if current_word:\n",
    "    print(f\"{current_word}\\t{count}\")"
   ]
  },
  {
   "cell_type": "code",
   "execution_count": null,
   "id": "de65c9b7-818a-43a8-a9dd-c8b719b1dafe",
   "metadata": {},
   "outputs": [],
   "source": []
  }
 ],
 "metadata": {
  "kernelspec": {
   "display_name": "Python 3 (ipykernel)",
   "language": "python",
   "name": "python3"
  },
  "language_info": {
   "codemirror_mode": {
    "name": "ipython",
    "version": 3
   },
   "file_extension": ".py",
   "mimetype": "text/x-python",
   "name": "python",
   "nbconvert_exporter": "python",
   "pygments_lexer": "ipython3",
   "version": "3.12.7"
  }
 },
 "nbformat": 4,
 "nbformat_minor": 5
}
