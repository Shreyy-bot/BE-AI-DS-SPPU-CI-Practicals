{
 "cells": [
  {
   "cell_type": "code",
   "execution_count": null,
   "id": "a8cf3b3d-8d19-4416-8eb0-269bfc0b1863",
   "metadata": {},
   "outputs": [],
   "source": []
  }
 ],
 "metadata": {
  "kernelspec": {
   "display_name": "",
   "name": ""
  },
  "language_info": {
   "name": ""
  }
 },
 "nbformat": 4,
 "nbformat_minor": 5
}
