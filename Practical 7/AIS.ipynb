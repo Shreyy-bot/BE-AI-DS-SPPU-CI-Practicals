{
 "cells": [
  {
   "cell_type": "code",
   "execution_count": 3,
   "id": "5ad3a6d5-e57c-45d0-a83e-a6977e5cb1a3",
   "metadata": {},
   "outputs": [],
   "source": [
    "import numpy as np\n",
    "from sklearn.model_selection import train_test_split\n",
    "from sklearn.svm import SVC\n",
    "from sklearn.preprocessing import StandardScaler"
   ]
  },
  {
   "cell_type": "code",
   "execution_count": 5,
   "id": "2111134e-5c32-47c2-b598-60b27e1727d9",
   "metadata": {},
   "outputs": [],
   "source": [
    "# Define AIRS algorithm with SVM classifier\n",
    "def airs_train(X_train, y_train, num_detectors=20):\n",
    "    # Select random samples as detectors\n",
    "    detector_indices = np.random.choice(len(X_train), num_detectors, replace=False)\n",
    "    detectors = X_train[detector_indices]\n",
    "    \n",
    "    # Train SVM classifier\n",
    "    svm = SVC(kernel='rbf', probability=True)\n",
    "    svm.fit(detectors, y_train[detector_indices])\n",
    "    \n",
    "    return svm"
   ]
  },
  {
   "cell_type": "code",
   "execution_count": 7,
   "id": "9386ba5b-51da-44d9-8ccf-1c4a1e8ad9c3",
   "metadata": {},
   "outputs": [],
   "source": [
    "# Generate dummy data\n",
    "samples = 100\n",
    "features = 10\n",
    "data = np.random.rand(samples, features)\n",
    "labels = np.random.randint(0, 2, size=samples)"
   ]
  },
  {
   "cell_type": "code",
   "execution_count": 9,
   "id": "378182b9-6ff5-4255-8f33-8eb491c61b78",
   "metadata": {},
   "outputs": [],
   "source": [
    "# Split data into training and testing sets\n",
    "X_train, X_test, y_train, y_test = train_test_split(data, labels, test_size=0.2, random_state=42)"
   ]
  },
  {
   "cell_type": "code",
   "execution_count": 11,
   "id": "d71a82a4-ecd2-4052-aeaa-665f0e154f74",
   "metadata": {},
   "outputs": [],
   "source": [
    "# Standardize features\n",
    "scaler = StandardScaler()\n",
    "X_train_scaled = scaler.fit_transform(X_train)\n",
    "X_test_scaled = scaler.transform(X_test)"
   ]
  },
  {
   "cell_type": "code",
   "execution_count": 13,
   "id": "2a83b50c-58fe-46e1-b06b-074f3f4d0a6e",
   "metadata": {},
   "outputs": [],
   "source": [
    "# Train AIRS with SVM classifier\n",
    "svm_classifier = airs_train(X_train_scaled, y_train, num_detectors=30)"
   ]
  },
  {
   "cell_type": "code",
   "execution_count": 15,
   "id": "f01267c9-40b2-4c87-bfe1-3eeb7a43866a",
   "metadata": {},
   "outputs": [],
   "source": [
    "# Test AIRS\n",
    "predictions = svm_classifier.predict(X_test_scaled)"
   ]
  },
  {
   "cell_type": "code",
   "execution_count": 17,
   "id": "fc7717b5-c8ac-4406-beab-4dfaf51ddd5e",
   "metadata": {},
   "outputs": [
    {
     "name": "stdout",
     "output_type": "stream",
     "text": [
      "Accuracy: 50.00%\n"
     ]
    }
   ],
   "source": [
    "# Evaluate accuracy\n",
    "accuracy = np.mean(predictions == y_test)\n",
    "print(f\"Accuracy: {accuracy * 100:.2f}%\")"
   ]
  },
  {
   "cell_type": "code",
   "execution_count": null,
   "id": "5f304d5f-e9ee-47ee-b68f-2b5afedb68cf",
   "metadata": {},
   "outputs": [],
   "source": []
  }
 ],
 "metadata": {
  "kernelspec": {
   "display_name": "Python 3 (ipykernel)",
   "language": "python",
   "name": "python3"
  },
  "language_info": {
   "codemirror_mode": {
    "name": "ipython",
    "version": 3
   },
   "file_extension": ".py",
   "mimetype": "text/x-python",
   "name": "python",
   "nbconvert_exporter": "python",
   "pygments_lexer": "ipython3",
   "version": "3.12.7"
  }
 },
 "nbformat": 4,
 "nbformat_minor": 5
}
