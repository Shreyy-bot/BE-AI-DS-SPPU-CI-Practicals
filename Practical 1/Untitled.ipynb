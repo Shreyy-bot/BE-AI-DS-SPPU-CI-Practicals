{
 "cells": [
  {
   "cell_type": "code",
   "execution_count": 2,
   "id": "57117cae-5833-405e-a2ad-8d5e7d41ef51",
   "metadata": {},
   "outputs": [],
   "source": [
    "import xmlrpc.client"
   ]
  },
  {
   "cell_type": "code",
   "execution_count": 4,
   "id": "cb354049-74dc-49d4-919f-639282898008",
   "metadata": {},
   "outputs": [],
   "source": [
    "# Connect to server\n",
    "proxy = xmlrpc.client.ServerProxy(\"http://localhost:8000/\")"
   ]
  },
  {
   "cell_type": "code",
   "execution_count": 22,
   "id": "8d07154f-e269-429c-bb77-e0dd068e8d4e",
   "metadata": {},
   "outputs": [
    {
     "name": "stdin",
     "output_type": "stream",
     "text": [
      "Enter a number to compute factorial:  1\n"
     ]
    },
    {
     "name": "stdout",
     "output_type": "stream",
     "text": [
      "Factorial of 1 is: 1\n"
     ]
    }
   ],
   "source": [
    "# Input from user\n",
    "num = int(input(\"Enter a number to compute factorial: \"))\n",
    "\n",
    "# Call remote method\n",
    "result = proxy.factorial(num)\n",
    "print(f\"Factorial of {num} is: {result}\")"
   ]
  },
  {
   "cell_type": "code",
   "execution_count": null,
   "id": "04c6038b-9deb-42c3-9598-0bd9c7ac03ec",
   "metadata": {},
   "outputs": [],
   "source": []
  }
 ],
 "metadata": {
  "kernelspec": {
   "display_name": "Python 3 (ipykernel)",
   "language": "python",
   "name": "python3"
  },
  "language_info": {
   "codemirror_mode": {
    "name": "ipython",
    "version": 3
   },
   "file_extension": ".py",
   "mimetype": "text/x-python",
   "name": "python",
   "nbconvert_exporter": "python",
   "pygments_lexer": "ipython3",
   "version": "3.12.7"
  }
 },
 "nbformat": 4,
 "nbformat_minor": 5
}
